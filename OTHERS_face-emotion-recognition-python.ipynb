{
 "cells": [
  {
   "cell_type": "code",
   "execution_count": 1,
   "metadata": {
    "id": "6Xj6RFzkF2DE"
   },
   "outputs": [],
   "source": [
    "import sys, os\n",
    "import pandas as pd\n",
    "import numpy as np"
   ]
  },
  {
   "cell_type": "code",
   "execution_count": 2,
   "metadata": {
    "id": "GkYJdIj4GAs3",
    "outputId": "9fe168dc-868e-4e46-a307-372386d3599e"
   },
   "outputs": [],
   "source": [
    "from keras.models import Sequential\n",
    "from keras.layers import Dense, Dropout, Activation, Flatten\n",
    "from keras.layers import Conv2D, MaxPooling2D, BatchNormalization,AveragePooling2D\n",
    "from keras.losses import categorical_crossentropy\n",
    "from keras.optimizers import Adam\n",
    "from keras.regularizers import l2\n",
    "from keras.utils import np_utils"
   ]
  },
  {
   "cell_type": "code",
   "execution_count": 3,
   "metadata": {
    "id": "lc5_ybKaGELy"
   },
   "outputs": [],
   "source": [
    "df=pd.read_csv('../input/fer2013/fer2013.csv')\n"
   ]
  },
  {
   "cell_type": "code",
   "execution_count": 4,
   "metadata": {
    "id": "7E03i88RGKnL"
   },
   "outputs": [],
   "source": [
    "X_train,train_y,X_test,test_y=[],[],[],[]\n"
   ]
  },
  {
   "cell_type": "code",
   "execution_count": 5,
   "metadata": {
    "id": "A21sLOoaGPY5"
   },
   "outputs": [],
   "source": [
    "for index, row in df.iterrows():\n",
    "    val=row['pixels'].split(\" \")\n",
    "    try:\n",
    "        if 'Training' in row['Usage']:\n",
    "           X_train.append(np.array(val,'float32'))\n",
    "           train_y.append(row['emotion'])\n",
    "        elif 'PublicTest' in row['Usage']:\n",
    "           X_test.append(np.array(val,'float32'))\n",
    "           test_y.append(row['emotion'])\n",
    "    except:\n",
    "        print(f\"error occured at index :{index} and row:{row}\")"
   ]
  },
  {
   "cell_type": "code",
   "execution_count": 6,
   "metadata": {
    "id": "7VQDdjcbGRjD"
   },
   "outputs": [],
   "source": [
    "num_features = 64\n",
    "num_labels = 7\n",
    "batch_size = 64\n",
    "epochs = 30\n",
    "width, height = 48, 48\n"
   ]
  },
  {
   "cell_type": "code",
   "execution_count": 7,
   "metadata": {
    "id": "V2LUEkMcGeqs"
   },
   "outputs": [],
   "source": [
    "X_train = np.array(X_train,'float32')\n",
    "train_y = np.array(train_y,'float32')\n",
    "X_test = np.array(X_test,'float32')\n",
    "test_y = np.array(test_y,'float32')"
   ]
  },
  {
   "cell_type": "code",
   "execution_count": 8,
   "metadata": {
    "id": "QRO5ECI3Gemz"
   },
   "outputs": [],
   "source": [
    "train_y=np_utils.to_categorical(train_y, num_classes=num_labels)\n",
    "test_y=np_utils.to_categorical(test_y, num_classes=num_labels)\n"
   ]
  },
  {
   "cell_type": "code",
   "execution_count": 9,
   "metadata": {
    "id": "skkBAuZqGeio"
   },
   "outputs": [],
   "source": [
    "X_train -= np.mean(X_train, axis=0)\n",
    "X_train /= np.std(X_train, axis=0)\n",
    "\n",
    "X_test -= np.mean(X_test, axis=0)\n",
    "X_test /= np.std(X_test, axis=0)\n"
   ]
  },
  {
   "cell_type": "code",
   "execution_count": 10,
   "metadata": {
    "id": "Te11CB2NGRfZ"
   },
   "outputs": [],
   "source": [
    "X_train = X_train.reshape(X_train.shape[0], 48, 48, 1)\n",
    "\n",
    "X_test = X_test.reshape(X_test.shape[0], 48, 48, 1)\n"
   ]
  },
  {
   "cell_type": "code",
   "execution_count": 11,
   "metadata": {
    "id": "ZppzZI5rGRb7"
   },
   "outputs": [],
   "source": [
    "model = Sequential()\n",
    "\n",
    "model.add(Conv2D(64, kernel_size=(3, 3), activation='relu', input_shape=(X_train.shape[1:])))\n",
    "model.add(Conv2D(64,kernel_size= (3, 3), activation='relu'))\n",
    "# model.add(BatchNormalization())\n",
    "model.add(MaxPooling2D(pool_size=(2,2), strides=(2, 2)))\n",
    "model.add(Dropout(0.5))\n",
    "\n",
    "#2nd convolution layer\n",
    "model.add(Conv2D(64, (3, 3), activation='relu'))\n",
    "model.add(Conv2D(64, (3, 3), activation='relu'))\n",
    "# model.add(BatchNormalization())\n",
    "model.add(MaxPooling2D(pool_size=(2,2), strides=(2, 2)))\n",
    "model.add(Dropout(0.5))\n",
    "\n",
    "#3rd convolution layer\n",
    "model.add(Conv2D(128, (3, 3), activation='relu'))\n",
    "model.add(Conv2D(128, (3, 3), activation='relu'))\n",
    "# model.add(BatchNormalization())\n",
    "model.add(MaxPooling2D(pool_size=(2,2), strides=(2, 2)))\n",
    "\n",
    "model.add(Flatten())\n",
    "\n",
    "#fully connected neural networks\n",
    "model.add(Dense(1024, activation='relu'))\n",
    "model.add(Dropout(0.2))\n",
    "model.add(Dense(1024, activation='relu'))\n",
    "model.add(Dropout(0.2))\n",
    "\n",
    "model.add(Dense(num_labels, activation='softmax'))\n"
   ]
  },
  {
   "cell_type": "code",
   "execution_count": 12,
   "metadata": {
    "id": "KtpziOBoGRZO"
   },
   "outputs": [],
   "source": [
    "model.compile(loss=categorical_crossentropy,\n",
    "              optimizer=Adam(),\n",
    "              metrics=['accuracy'])"
   ]
  },
  {
   "cell_type": "code",
   "execution_count": 13,
   "metadata": {
    "id": "a_oNwvISHL-P",
    "outputId": "293be3b7-0bbd-4a6b-94d0-ec4d1b7efad1"
   },
   "outputs": [
    {
     "name": "stdout",
     "output_type": "stream",
     "text": [
      "Epoch 1/30\n",
      "449/449 [==============================] - 244s 542ms/step - loss: 1.7330 - accuracy: 0.2843 - val_loss: 1.6159 - val_accuracy: 0.3516\n",
      "Epoch 2/30\n",
      "449/449 [==============================] - 243s 542ms/step - loss: 1.5168 - accuracy: 0.4046 - val_loss: 1.4162 - val_accuracy: 0.4452\n",
      "Epoch 3/30\n",
      "449/449 [==============================] - 241s 537ms/step - loss: 1.4083 - accuracy: 0.4517 - val_loss: 1.3661 - val_accuracy: 0.4831\n",
      "Epoch 4/30\n",
      "449/449 [==============================] - 242s 540ms/step - loss: 1.3475 - accuracy: 0.4787 - val_loss: 1.3337 - val_accuracy: 0.4823\n",
      "Epoch 5/30\n",
      "449/449 [==============================] - 241s 537ms/step - loss: 1.3051 - accuracy: 0.4956 - val_loss: 1.2684 - val_accuracy: 0.5177\n",
      "Epoch 6/30\n",
      "449/449 [==============================] - 240s 535ms/step - loss: 1.2651 - accuracy: 0.5119 - val_loss: 1.2515 - val_accuracy: 0.5227\n",
      "Epoch 7/30\n",
      "449/449 [==============================] - 240s 535ms/step - loss: 1.2390 - accuracy: 0.5268 - val_loss: 1.2124 - val_accuracy: 0.5364\n",
      "Epoch 8/30\n",
      "449/449 [==============================] - 241s 536ms/step - loss: 1.2091 - accuracy: 0.5377 - val_loss: 1.2170 - val_accuracy: 0.5316\n",
      "Epoch 9/30\n",
      "449/449 [==============================] - 240s 534ms/step - loss: 1.1935 - accuracy: 0.5443 - val_loss: 1.1887 - val_accuracy: 0.5475\n",
      "Epoch 10/30\n",
      "449/449 [==============================] - 239s 532ms/step - loss: 1.1683 - accuracy: 0.5512 - val_loss: 1.1696 - val_accuracy: 0.5536\n",
      "Epoch 11/30\n",
      "449/449 [==============================] - 239s 532ms/step - loss: 1.1427 - accuracy: 0.5619 - val_loss: 1.1769 - val_accuracy: 0.5623\n",
      "Epoch 12/30\n",
      "449/449 [==============================] - 241s 536ms/step - loss: 1.1267 - accuracy: 0.5691 - val_loss: 1.1629 - val_accuracy: 0.5520\n",
      "Epoch 13/30\n",
      "449/449 [==============================] - 240s 535ms/step - loss: 1.1032 - accuracy: 0.5760 - val_loss: 1.1556 - val_accuracy: 0.5670\n",
      "Epoch 14/30\n",
      "449/449 [==============================] - 239s 532ms/step - loss: 1.0822 - accuracy: 0.5872 - val_loss: 1.1651 - val_accuracy: 0.5575\n",
      "Epoch 15/30\n",
      "449/449 [==============================] - 239s 533ms/step - loss: 1.0694 - accuracy: 0.5897 - val_loss: 1.1771 - val_accuracy: 0.5612\n",
      "Epoch 16/30\n",
      "449/449 [==============================] - 240s 534ms/step - loss: 1.0533 - accuracy: 0.5999 - val_loss: 1.1719 - val_accuracy: 0.5609\n",
      "Epoch 17/30\n",
      "449/449 [==============================] - 241s 537ms/step - loss: 1.0372 - accuracy: 0.6058 - val_loss: 1.1705 - val_accuracy: 0.5614\n",
      "Epoch 18/30\n",
      "449/449 [==============================] - 241s 537ms/step - loss: 1.0211 - accuracy: 0.6090 - val_loss: 1.1560 - val_accuracy: 0.5670\n",
      "Epoch 19/30\n",
      "449/449 [==============================] - 242s 539ms/step - loss: 1.0033 - accuracy: 0.6155 - val_loss: 1.1827 - val_accuracy: 0.5642\n",
      "Epoch 20/30\n",
      "449/449 [==============================] - 240s 535ms/step - loss: 0.9915 - accuracy: 0.6227 - val_loss: 1.1660 - val_accuracy: 0.5567\n",
      "Epoch 21/30\n",
      "449/449 [==============================] - 239s 533ms/step - loss: 0.9753 - accuracy: 0.6285 - val_loss: 1.1790 - val_accuracy: 0.5559\n",
      "Epoch 22/30\n",
      "449/449 [==============================] - 239s 532ms/step - loss: 0.9599 - accuracy: 0.6314 - val_loss: 1.2088 - val_accuracy: 0.5556\n",
      "Epoch 23/30\n",
      "449/449 [==============================] - 244s 543ms/step - loss: 0.9368 - accuracy: 0.6432 - val_loss: 1.1621 - val_accuracy: 0.5695\n",
      "Epoch 24/30\n",
      "449/449 [==============================] - 238s 530ms/step - loss: 0.9261 - accuracy: 0.6467 - val_loss: 1.1748 - val_accuracy: 0.5793\n",
      "Epoch 25/30\n",
      "449/449 [==============================] - 239s 532ms/step - loss: 0.9201 - accuracy: 0.6515 - val_loss: 1.1756 - val_accuracy: 0.5620\n",
      "Epoch 26/30\n",
      "449/449 [==============================] - 239s 532ms/step - loss: 0.9006 - accuracy: 0.6564 - val_loss: 1.1972 - val_accuracy: 0.5737\n",
      "Epoch 27/30\n",
      "449/449 [==============================] - 239s 532ms/step - loss: 0.8900 - accuracy: 0.6625 - val_loss: 1.2012 - val_accuracy: 0.5634\n",
      "Epoch 28/30\n",
      "449/449 [==============================] - 238s 531ms/step - loss: 0.8811 - accuracy: 0.6642 - val_loss: 1.1916 - val_accuracy: 0.5784\n",
      "Epoch 29/30\n",
      "449/449 [==============================] - 239s 533ms/step - loss: 0.8598 - accuracy: 0.6759 - val_loss: 1.2166 - val_accuracy: 0.5670\n",
      "Epoch 30/30\n",
      "449/449 [==============================] - 238s 531ms/step - loss: 0.8533 - accuracy: 0.6752 - val_loss: 1.2133 - val_accuracy: 0.5628\n"
     ]
    },
    {
     "data": {
      "text/plain": [
       "<tensorflow.python.keras.callbacks.History at 0x7fa43b24f690>"
      ]
     },
     "execution_count": 13,
     "metadata": {},
     "output_type": "execute_result"
    }
   ],
   "source": [
    "model.fit(X_train, train_y,\n",
    "          batch_size=batch_size,\n",
    "          epochs=epochs,\n",
    "          verbose=1,\n",
    "          validation_data=(X_test, test_y),\n",
    "          shuffle=True)"
   ]
  },
  {
   "cell_type": "code",
   "execution_count": 14,
   "metadata": {
    "id": "ndk7LaPcHSMZ"
   },
   "outputs": [],
   "source": [
    "#Saving the  model to  use it later on\n",
    "fer_json = model.to_json()\n",
    "with open(\"fer.json\", \"w\") as json_file:\n",
    "    json_file.write(fer_json)\n",
    "model.save_weights(\"fer.h5\")\n"
   ]
  },
  {
   "cell_type": "code",
   "execution_count": null,
   "metadata": {
    "id": "-uS9DyJwKPQe"
   },
   "outputs": [],
   "source": []
  }
 ],
 "metadata": {
  "kernelspec": {
   "display_name": "Python 3",
   "language": "python",
   "name": "python3"
  },
  "language_info": {
   "codemirror_mode": {
    "name": "ipython",
    "version": 3
   },
   "file_extension": ".py",
   "mimetype": "text/x-python",
   "name": "python",
   "nbconvert_exporter": "python",
   "pygments_lexer": "ipython3",
   "version": "3.7.6"
  }
 },
 "nbformat": 4,
 "nbformat_minor": 4
}
