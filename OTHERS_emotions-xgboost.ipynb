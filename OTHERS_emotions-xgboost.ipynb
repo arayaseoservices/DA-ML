{
 "cells": [
  {
   "cell_type": "code",
   "execution_count": 1,
   "metadata": {},
   "outputs": [],
   "source": [
    "import pandas as pd\n",
    "import warnings\n",
    "warnings.filterwarnings('ignore')"
   ]
  },
  {
   "cell_type": "code",
   "execution_count": 2,
   "metadata": {},
   "outputs": [],
   "source": [
    "df = pd.read_csv('../input/emotions.csv')"
   ]
  },
  {
   "cell_type": "code",
   "execution_count": 3,
   "metadata": {},
   "outputs": [
    {
     "name": "stdout",
     "output_type": "stream",
     "text": [
      "<class 'pandas.core.frame.DataFrame'>\n",
      "RangeIndex: 2132 entries, 0 to 2131\n",
      "Columns: 2549 entries, # mean_0_a to label\n",
      "dtypes: float64(2548), object(1)\n",
      "memory usage: 41.5+ MB\n"
     ]
    }
   ],
   "source": [
    "df.info()"
   ]
  },
  {
   "cell_type": "code",
   "execution_count": 4,
   "metadata": {},
   "outputs": [
    {
     "data": {
      "text/html": [
       "<div>\n",
       "<style scoped>\n",
       "    .dataframe tbody tr th:only-of-type {\n",
       "        vertical-align: middle;\n",
       "    }\n",
       "\n",
       "    .dataframe tbody tr th {\n",
       "        vertical-align: top;\n",
       "    }\n",
       "\n",
       "    .dataframe thead th {\n",
       "        text-align: right;\n",
       "    }\n",
       "</style>\n",
       "<table border=\"1\" class=\"dataframe\">\n",
       "  <thead>\n",
       "    <tr style=\"text-align: right;\">\n",
       "      <th></th>\n",
       "      <th># mean_0_a</th>\n",
       "      <th>mean_1_a</th>\n",
       "      <th>mean_2_a</th>\n",
       "      <th>mean_3_a</th>\n",
       "      <th>mean_4_a</th>\n",
       "      <th>mean_d_0_a</th>\n",
       "      <th>mean_d_1_a</th>\n",
       "      <th>mean_d_2_a</th>\n",
       "      <th>mean_d_3_a</th>\n",
       "      <th>mean_d_4_a</th>\n",
       "      <th>mean_d_0_a2</th>\n",
       "      <th>mean_d_1_a2</th>\n",
       "      <th>mean_d_2_a2</th>\n",
       "      <th>mean_d_3_a2</th>\n",
       "      <th>mean_d_4_a2</th>\n",
       "      <th>mean_d_5_a</th>\n",
       "      <th>mean_d_6_a</th>\n",
       "      <th>mean_d_7_a</th>\n",
       "      <th>mean_d_8_a</th>\n",
       "      <th>mean_d_9_a</th>\n",
       "      <th>mean_d_10_a</th>\n",
       "      <th>mean_d_11_a</th>\n",
       "      <th>mean_d_12_a</th>\n",
       "      <th>mean_d_13_a</th>\n",
       "      <th>mean_d_14_a</th>\n",
       "      <th>mean_d_15_a</th>\n",
       "      <th>mean_d_16_a</th>\n",
       "      <th>mean_d_17_a</th>\n",
       "      <th>mean_d_18_a</th>\n",
       "      <th>mean_d_19_a</th>\n",
       "      <th>mean_d_20_a</th>\n",
       "      <th>mean_d_21_a</th>\n",
       "      <th>mean_d_22_a</th>\n",
       "      <th>mean_d_23_a</th>\n",
       "      <th>mean_d_24_a</th>\n",
       "      <th>mean_d_25_a</th>\n",
       "      <th>mean_d_26_a</th>\n",
       "      <th>mean_d_27_a</th>\n",
       "      <th>mean_d_28_a</th>\n",
       "      <th>mean_d_29_a</th>\n",
       "      <th>...</th>\n",
       "      <th>fft_711_b</th>\n",
       "      <th>fft_712_b</th>\n",
       "      <th>fft_713_b</th>\n",
       "      <th>fft_714_b</th>\n",
       "      <th>fft_715_b</th>\n",
       "      <th>fft_716_b</th>\n",
       "      <th>fft_717_b</th>\n",
       "      <th>fft_718_b</th>\n",
       "      <th>fft_719_b</th>\n",
       "      <th>fft_720_b</th>\n",
       "      <th>fft_721_b</th>\n",
       "      <th>fft_722_b</th>\n",
       "      <th>fft_723_b</th>\n",
       "      <th>fft_724_b</th>\n",
       "      <th>fft_725_b</th>\n",
       "      <th>fft_726_b</th>\n",
       "      <th>fft_727_b</th>\n",
       "      <th>fft_728_b</th>\n",
       "      <th>fft_729_b</th>\n",
       "      <th>fft_730_b</th>\n",
       "      <th>fft_731_b</th>\n",
       "      <th>fft_732_b</th>\n",
       "      <th>fft_733_b</th>\n",
       "      <th>fft_734_b</th>\n",
       "      <th>fft_735_b</th>\n",
       "      <th>fft_736_b</th>\n",
       "      <th>fft_737_b</th>\n",
       "      <th>fft_738_b</th>\n",
       "      <th>fft_739_b</th>\n",
       "      <th>fft_740_b</th>\n",
       "      <th>fft_741_b</th>\n",
       "      <th>fft_742_b</th>\n",
       "      <th>fft_743_b</th>\n",
       "      <th>fft_744_b</th>\n",
       "      <th>fft_745_b</th>\n",
       "      <th>fft_746_b</th>\n",
       "      <th>fft_747_b</th>\n",
       "      <th>fft_748_b</th>\n",
       "      <th>fft_749_b</th>\n",
       "      <th>label</th>\n",
       "    </tr>\n",
       "  </thead>\n",
       "  <tbody>\n",
       "    <tr>\n",
       "      <th>0</th>\n",
       "      <td>4.62</td>\n",
       "      <td>30.3</td>\n",
       "      <td>-356.0</td>\n",
       "      <td>15.6</td>\n",
       "      <td>26.3</td>\n",
       "      <td>1.070</td>\n",
       "      <td>0.411</td>\n",
       "      <td>-15.70</td>\n",
       "      <td>2.06</td>\n",
       "      <td>3.15</td>\n",
       "      <td>2.15</td>\n",
       "      <td>29.5</td>\n",
       "      <td>-353.0</td>\n",
       "      <td>14.40</td>\n",
       "      <td>21.5</td>\n",
       "      <td>5.98</td>\n",
       "      <td>30.7</td>\n",
       "      <td>-343.0</td>\n",
       "      <td>14.7</td>\n",
       "      <td>27.9</td>\n",
       "      <td>3.17</td>\n",
       "      <td>32.2</td>\n",
       "      <td>-368.0</td>\n",
       "      <td>15.9</td>\n",
       "      <td>36.4</td>\n",
       "      <td>7.08</td>\n",
       "      <td>28.8</td>\n",
       "      <td>-359.0</td>\n",
       "      <td>17.3</td>\n",
       "      <td>19.6</td>\n",
       "      <td>-3.8300</td>\n",
       "      <td>-1.230</td>\n",
       "      <td>-10.80000</td>\n",
       "      <td>-0.363</td>\n",
       "      <td>-6.41</td>\n",
       "      <td>-1.03</td>\n",
       "      <td>-2.780</td>\n",
       "      <td>14.60</td>\n",
       "      <td>-1.540</td>\n",
       "      <td>-14.900000</td>\n",
       "      <td>...</td>\n",
       "      <td>30.90</td>\n",
       "      <td>-24.4</td>\n",
       "      <td>-24.4</td>\n",
       "      <td>30.90</td>\n",
       "      <td>-442.0</td>\n",
       "      <td>388.0</td>\n",
       "      <td>-197.0</td>\n",
       "      <td>-197.0</td>\n",
       "      <td>388.0</td>\n",
       "      <td>-564.0</td>\n",
       "      <td>500.00</td>\n",
       "      <td>-245.00</td>\n",
       "      <td>-245.00</td>\n",
       "      <td>500.00</td>\n",
       "      <td>-88.8</td>\n",
       "      <td>214.0</td>\n",
       "      <td>-88.8</td>\n",
       "      <td>-88.8</td>\n",
       "      <td>214.0</td>\n",
       "      <td>-606.0</td>\n",
       "      <td>509.000</td>\n",
       "      <td>-261.0</td>\n",
       "      <td>-261.0</td>\n",
       "      <td>509.000</td>\n",
       "      <td>-399.0</td>\n",
       "      <td>374.0</td>\n",
       "      <td>-185.00</td>\n",
       "      <td>-185.00</td>\n",
       "      <td>374.0</td>\n",
       "      <td>74.3</td>\n",
       "      <td>23.5</td>\n",
       "      <td>20.3</td>\n",
       "      <td>20.3</td>\n",
       "      <td>23.5</td>\n",
       "      <td>-215.0</td>\n",
       "      <td>280.00</td>\n",
       "      <td>-162.00</td>\n",
       "      <td>-162.00</td>\n",
       "      <td>280.00</td>\n",
       "      <td>NEGATIVE</td>\n",
       "    </tr>\n",
       "    <tr>\n",
       "      <th>1</th>\n",
       "      <td>28.80</td>\n",
       "      <td>33.1</td>\n",
       "      <td>32.0</td>\n",
       "      <td>25.8</td>\n",
       "      <td>22.8</td>\n",
       "      <td>6.550</td>\n",
       "      <td>1.680</td>\n",
       "      <td>2.88</td>\n",
       "      <td>3.83</td>\n",
       "      <td>-4.82</td>\n",
       "      <td>25.60</td>\n",
       "      <td>32.8</td>\n",
       "      <td>29.6</td>\n",
       "      <td>21.50</td>\n",
       "      <td>17.4</td>\n",
       "      <td>25.50</td>\n",
       "      <td>31.7</td>\n",
       "      <td>31.5</td>\n",
       "      <td>26.2</td>\n",
       "      <td>32.9</td>\n",
       "      <td>31.80</td>\n",
       "      <td>33.1</td>\n",
       "      <td>33.2</td>\n",
       "      <td>28.5</td>\n",
       "      <td>26.8</td>\n",
       "      <td>32.40</td>\n",
       "      <td>34.7</td>\n",
       "      <td>33.8</td>\n",
       "      <td>27.0</td>\n",
       "      <td>14.2</td>\n",
       "      <td>0.0342</td>\n",
       "      <td>1.100</td>\n",
       "      <td>-1.87000</td>\n",
       "      <td>-4.690</td>\n",
       "      <td>-15.40</td>\n",
       "      <td>-6.22</td>\n",
       "      <td>-0.328</td>\n",
       "      <td>-3.53</td>\n",
       "      <td>-6.980</td>\n",
       "      <td>-9.370000</td>\n",
       "      <td>...</td>\n",
       "      <td>-5.99</td>\n",
       "      <td>-19.1</td>\n",
       "      <td>-19.1</td>\n",
       "      <td>-5.99</td>\n",
       "      <td>163.0</td>\n",
       "      <td>-11.0</td>\n",
       "      <td>-10.7</td>\n",
       "      <td>-10.7</td>\n",
       "      <td>-11.0</td>\n",
       "      <td>117.0</td>\n",
       "      <td>-3.93</td>\n",
       "      <td>17.90</td>\n",
       "      <td>17.90</td>\n",
       "      <td>-3.93</td>\n",
       "      <td>112.0</td>\n",
       "      <td>-13.9</td>\n",
       "      <td>25.5</td>\n",
       "      <td>25.5</td>\n",
       "      <td>-13.9</td>\n",
       "      <td>225.0</td>\n",
       "      <td>-0.968</td>\n",
       "      <td>-27.7</td>\n",
       "      <td>-27.7</td>\n",
       "      <td>-0.968</td>\n",
       "      <td>97.4</td>\n",
       "      <td>-19.0</td>\n",
       "      <td>40.70</td>\n",
       "      <td>40.70</td>\n",
       "      <td>-19.0</td>\n",
       "      <td>130.0</td>\n",
       "      <td>-23.3</td>\n",
       "      <td>-21.8</td>\n",
       "      <td>-21.8</td>\n",
       "      <td>-23.3</td>\n",
       "      <td>182.0</td>\n",
       "      <td>2.57</td>\n",
       "      <td>-31.60</td>\n",
       "      <td>-31.60</td>\n",
       "      <td>2.57</td>\n",
       "      <td>NEUTRAL</td>\n",
       "    </tr>\n",
       "    <tr>\n",
       "      <th>2</th>\n",
       "      <td>8.90</td>\n",
       "      <td>29.4</td>\n",
       "      <td>-416.0</td>\n",
       "      <td>16.7</td>\n",
       "      <td>23.7</td>\n",
       "      <td>79.900</td>\n",
       "      <td>3.360</td>\n",
       "      <td>90.20</td>\n",
       "      <td>89.90</td>\n",
       "      <td>2.03</td>\n",
       "      <td>7.75</td>\n",
       "      <td>30.1</td>\n",
       "      <td>-441.0</td>\n",
       "      <td>9.89</td>\n",
       "      <td>25.3</td>\n",
       "      <td>-68.90</td>\n",
       "      <td>25.3</td>\n",
       "      <td>-481.0</td>\n",
       "      <td>-65.4</td>\n",
       "      <td>20.0</td>\n",
       "      <td>79.80</td>\n",
       "      <td>31.0</td>\n",
       "      <td>-408.0</td>\n",
       "      <td>91.9</td>\n",
       "      <td>29.5</td>\n",
       "      <td>18.80</td>\n",
       "      <td>31.1</td>\n",
       "      <td>-335.0</td>\n",
       "      <td>32.2</td>\n",
       "      <td>19.9</td>\n",
       "      <td>76.6000</td>\n",
       "      <td>4.850</td>\n",
       "      <td>39.90000</td>\n",
       "      <td>75.300</td>\n",
       "      <td>5.27</td>\n",
       "      <td>-72.00</td>\n",
       "      <td>-0.843</td>\n",
       "      <td>-33.00</td>\n",
       "      <td>-82.000</td>\n",
       "      <td>-4.200000</td>\n",
       "      <td>...</td>\n",
       "      <td>585.00</td>\n",
       "      <td>-285.0</td>\n",
       "      <td>-285.0</td>\n",
       "      <td>585.00</td>\n",
       "      <td>-94.3</td>\n",
       "      <td>183.0</td>\n",
       "      <td>-110.0</td>\n",
       "      <td>-110.0</td>\n",
       "      <td>183.0</td>\n",
       "      <td>-133.0</td>\n",
       "      <td>200.00</td>\n",
       "      <td>-72.00</td>\n",
       "      <td>-72.00</td>\n",
       "      <td>200.00</td>\n",
       "      <td>-356.0</td>\n",
       "      <td>295.0</td>\n",
       "      <td>-158.0</td>\n",
       "      <td>-158.0</td>\n",
       "      <td>295.0</td>\n",
       "      <td>-251.0</td>\n",
       "      <td>255.000</td>\n",
       "      <td>-95.7</td>\n",
       "      <td>-95.7</td>\n",
       "      <td>255.000</td>\n",
       "      <td>-177.0</td>\n",
       "      <td>159.0</td>\n",
       "      <td>-48.80</td>\n",
       "      <td>-48.80</td>\n",
       "      <td>159.0</td>\n",
       "      <td>-534.0</td>\n",
       "      <td>462.0</td>\n",
       "      <td>-233.0</td>\n",
       "      <td>-233.0</td>\n",
       "      <td>462.0</td>\n",
       "      <td>-267.0</td>\n",
       "      <td>281.00</td>\n",
       "      <td>-148.00</td>\n",
       "      <td>-148.00</td>\n",
       "      <td>281.00</td>\n",
       "      <td>POSITIVE</td>\n",
       "    </tr>\n",
       "    <tr>\n",
       "      <th>3</th>\n",
       "      <td>14.90</td>\n",
       "      <td>31.6</td>\n",
       "      <td>-143.0</td>\n",
       "      <td>19.8</td>\n",
       "      <td>24.3</td>\n",
       "      <td>-0.584</td>\n",
       "      <td>-0.284</td>\n",
       "      <td>8.82</td>\n",
       "      <td>2.30</td>\n",
       "      <td>-1.97</td>\n",
       "      <td>17.30</td>\n",
       "      <td>32.0</td>\n",
       "      <td>-148.0</td>\n",
       "      <td>20.40</td>\n",
       "      <td>22.8</td>\n",
       "      <td>13.20</td>\n",
       "      <td>31.5</td>\n",
       "      <td>-147.0</td>\n",
       "      <td>16.9</td>\n",
       "      <td>27.7</td>\n",
       "      <td>15.70</td>\n",
       "      <td>30.7</td>\n",
       "      <td>-142.0</td>\n",
       "      <td>20.7</td>\n",
       "      <td>22.8</td>\n",
       "      <td>13.60</td>\n",
       "      <td>32.2</td>\n",
       "      <td>-135.0</td>\n",
       "      <td>21.2</td>\n",
       "      <td>23.8</td>\n",
       "      <td>4.1500</td>\n",
       "      <td>0.556</td>\n",
       "      <td>-0.35400</td>\n",
       "      <td>3.460</td>\n",
       "      <td>-4.96</td>\n",
       "      <td>1.63</td>\n",
       "      <td>1.330</td>\n",
       "      <td>-5.83</td>\n",
       "      <td>-0.298</td>\n",
       "      <td>0.000777</td>\n",
       "      <td>...</td>\n",
       "      <td>249.00</td>\n",
       "      <td>-146.0</td>\n",
       "      <td>-146.0</td>\n",
       "      <td>249.00</td>\n",
       "      <td>359.0</td>\n",
       "      <td>-146.0</td>\n",
       "      <td>13.7</td>\n",
       "      <td>13.7</td>\n",
       "      <td>-146.0</td>\n",
       "      <td>119.0</td>\n",
       "      <td>-7.64</td>\n",
       "      <td>-7.17</td>\n",
       "      <td>-7.17</td>\n",
       "      <td>-7.64</td>\n",
       "      <td>-296.0</td>\n",
       "      <td>316.0</td>\n",
       "      <td>-218.0</td>\n",
       "      <td>-218.0</td>\n",
       "      <td>316.0</td>\n",
       "      <td>322.0</td>\n",
       "      <td>-113.000</td>\n",
       "      <td>38.4</td>\n",
       "      <td>38.4</td>\n",
       "      <td>-113.000</td>\n",
       "      <td>245.0</td>\n",
       "      <td>-61.9</td>\n",
       "      <td>-5.08</td>\n",
       "      <td>-5.08</td>\n",
       "      <td>-61.9</td>\n",
       "      <td>-183.0</td>\n",
       "      <td>299.0</td>\n",
       "      <td>-243.0</td>\n",
       "      <td>-243.0</td>\n",
       "      <td>299.0</td>\n",
       "      <td>132.0</td>\n",
       "      <td>-12.40</td>\n",
       "      <td>9.53</td>\n",
       "      <td>9.53</td>\n",
       "      <td>-12.40</td>\n",
       "      <td>POSITIVE</td>\n",
       "    </tr>\n",
       "    <tr>\n",
       "      <th>4</th>\n",
       "      <td>28.30</td>\n",
       "      <td>31.3</td>\n",
       "      <td>45.2</td>\n",
       "      <td>27.3</td>\n",
       "      <td>24.5</td>\n",
       "      <td>34.800</td>\n",
       "      <td>-5.790</td>\n",
       "      <td>3.06</td>\n",
       "      <td>41.40</td>\n",
       "      <td>5.52</td>\n",
       "      <td>26.10</td>\n",
       "      <td>34.3</td>\n",
       "      <td>43.7</td>\n",
       "      <td>23.70</td>\n",
       "      <td>20.6</td>\n",
       "      <td>-3.87</td>\n",
       "      <td>34.1</td>\n",
       "      <td>43.7</td>\n",
       "      <td>-10.0</td>\n",
       "      <td>22.9</td>\n",
       "      <td>59.40</td>\n",
       "      <td>26.7</td>\n",
       "      <td>60.3</td>\n",
       "      <td>64.7</td>\n",
       "      <td>26.9</td>\n",
       "      <td>32.30</td>\n",
       "      <td>30.1</td>\n",
       "      <td>33.6</td>\n",
       "      <td>31.6</td>\n",
       "      <td>27.7</td>\n",
       "      <td>30.0000</td>\n",
       "      <td>0.276</td>\n",
       "      <td>-0.00677</td>\n",
       "      <td>33.700</td>\n",
       "      <td>-2.36</td>\n",
       "      <td>-33.30</td>\n",
       "      <td>7.640</td>\n",
       "      <td>-16.60</td>\n",
       "      <td>-41.100</td>\n",
       "      <td>-6.290000</td>\n",
       "      <td>...</td>\n",
       "      <td>18.30</td>\n",
       "      <td>-11.9</td>\n",
       "      <td>-11.9</td>\n",
       "      <td>18.30</td>\n",
       "      <td>159.0</td>\n",
       "      <td>-18.2</td>\n",
       "      <td>-25.6</td>\n",
       "      <td>-25.6</td>\n",
       "      <td>-18.2</td>\n",
       "      <td>194.0</td>\n",
       "      <td>32.70</td>\n",
       "      <td>-54.50</td>\n",
       "      <td>-54.50</td>\n",
       "      <td>32.70</td>\n",
       "      <td>154.0</td>\n",
       "      <td>26.4</td>\n",
       "      <td>-56.4</td>\n",
       "      <td>-56.4</td>\n",
       "      <td>26.4</td>\n",
       "      <td>252.0</td>\n",
       "      <td>9.940</td>\n",
       "      <td>-37.4</td>\n",
       "      <td>-37.4</td>\n",
       "      <td>9.940</td>\n",
       "      <td>172.0</td>\n",
       "      <td>15.9</td>\n",
       "      <td>-7.25</td>\n",
       "      <td>-7.25</td>\n",
       "      <td>15.9</td>\n",
       "      <td>114.0</td>\n",
       "      <td>12.0</td>\n",
       "      <td>38.1</td>\n",
       "      <td>38.1</td>\n",
       "      <td>12.0</td>\n",
       "      <td>119.0</td>\n",
       "      <td>-17.60</td>\n",
       "      <td>23.90</td>\n",
       "      <td>23.90</td>\n",
       "      <td>-17.60</td>\n",
       "      <td>NEUTRAL</td>\n",
       "    </tr>\n",
       "  </tbody>\n",
       "</table>\n",
       "</div>"
      ],
      "text/plain": [
       "   # mean_0_a  mean_1_a  mean_2_a    ...     fft_748_b  fft_749_b     label\n",
       "0        4.62      30.3    -356.0    ...       -162.00     280.00  NEGATIVE\n",
       "1       28.80      33.1      32.0    ...        -31.60       2.57   NEUTRAL\n",
       "2        8.90      29.4    -416.0    ...       -148.00     281.00  POSITIVE\n",
       "3       14.90      31.6    -143.0    ...          9.53     -12.40  POSITIVE\n",
       "4       28.30      31.3      45.2    ...         23.90     -17.60   NEUTRAL\n",
       "\n",
       "[5 rows x 2549 columns]"
      ]
     },
     "execution_count": 4,
     "metadata": {},
     "output_type": "execute_result"
    }
   ],
   "source": [
    "df.head()"
   ]
  },
  {
   "cell_type": "code",
   "execution_count": 5,
   "metadata": {},
   "outputs": [
    {
     "data": {
      "text/plain": [
       "<matplotlib.axes._subplots.AxesSubplot at 0x7f473fa6b6d8>"
      ]
     },
     "execution_count": 5,
     "metadata": {},
     "output_type": "execute_result"
    },
    {
     "data": {
      "image/png": "[encoded data removed]",
      "text/plain": [
       "<Figure size 432x288 with 1 Axes>"
      ]
     },
     "metadata": {
      "needs_background": "light"
     },
     "output_type": "display_data"
    }
   ],
   "source": [
    "import seaborn as sns\n",
    "sns.countplot(df['label'],color='lightblue')"
   ]
  },
  {
   "cell_type": "code",
   "execution_count": 6,
   "metadata": {},
   "outputs": [],
   "source": [
    "dt = df['label']"
   ]
  },
  {
   "cell_type": "code",
   "execution_count": 7,
   "metadata": {},
   "outputs": [],
   "source": [
    "df = df.drop('label',axis=1)"
   ]
  },
  {
   "cell_type": "code",
   "execution_count": 8,
   "metadata": {},
   "outputs": [],
   "source": [
    "from xgboost.sklearn import XGBClassifier"
   ]
  },
  {
   "cell_type": "code",
   "execution_count": 9,
   "metadata": {},
   "outputs": [],
   "source": [
    "from sklearn import model_selection"
   ]
  },
  {
   "cell_type": "code",
   "execution_count": 10,
   "metadata": {},
   "outputs": [],
   "source": [
    "X_train,X_test,y_train,y_test = model_selection.train_test_split(df,dt,test_size=0.3,random_state=42)"
   ]
  },
  {
   "cell_type": "code",
   "execution_count": 11,
   "metadata": {},
   "outputs": [],
   "source": [
    "params = {\n",
    "    'objective': 'multi:softprob',\n",
    "    'max_depth': 5,\n",
    "    'learning_rate': 1.0,\n",
    "    'n_estimators': 15\n",
    "}"
   ]
  },
  {
   "cell_type": "code",
   "execution_count": 12,
   "metadata": {},
   "outputs": [
    {
     "name": "stdout",
     "output_type": "stream",
     "text": [
      "CPU times: user 10.4 s, sys: 192 ms, total: 10.6 s\n",
      "Wall time: 10.6 s\n"
     ]
    }
   ],
   "source": [
    "%%time\n",
    "model = XGBClassifier(**params).fit(X_train, y_train)"
   ]
  },
  {
   "cell_type": "code",
   "execution_count": 13,
   "metadata": {},
   "outputs": [],
   "source": [
    "y_pred = model.predict(X_test)"
   ]
  },
  {
   "cell_type": "code",
   "execution_count": 14,
   "metadata": {},
   "outputs": [],
   "source": [
    "from sklearn import metrics"
   ]
  },
  {
   "cell_type": "code",
   "execution_count": 15,
   "metadata": {},
   "outputs": [
    {
     "name": "stdout",
     "output_type": "stream",
     "text": [
      "Misclassified samples: 6\n",
      "Accuracy: 0.99\n"
     ]
    }
   ],
   "source": [
    "count_misclassified = (y_test != y_pred).sum()\n",
    "print('Misclassified samples: {}'.format(count_misclassified))\n",
    "accuracy = metrics.accuracy_score(y_test, y_pred)\n",
    "print('Accuracy: {:.2f}'.format(accuracy))"
   ]
  },
  {
   "cell_type": "code",
   "execution_count": 16,
   "metadata": {},
   "outputs": [],
   "source": [
    "from sklearn import ensemble"
   ]
  },
  {
   "cell_type": "code",
   "execution_count": 17,
   "metadata": {},
   "outputs": [
    {
     "name": "stdout",
     "output_type": "stream",
     "text": [
      "CPU times: user 0 ns, sys: 4 ms, total: 4 ms\n",
      "Wall time: 7.51 ms\n"
     ]
    }
   ],
   "source": [
    "%%time\n",
    "model = ensemble.RandomForestClassifier(n_estimators=15,max_depth=4)"
   ]
  },
  {
   "cell_type": "code",
   "execution_count": 18,
   "metadata": {},
   "outputs": [
    {
     "data": {
      "text/plain": [
       "RandomForestClassifier(bootstrap=True, class_weight=None, criterion='gini',\n",
       "                       max_depth=4, max_features='auto', max_leaf_nodes=None,\n",
       "                       min_impurity_decrease=0.0, min_impurity_split=None,\n",
       "                       min_samples_leaf=1, min_samples_split=2,\n",
       "                       min_weight_fraction_leaf=0.0, n_estimators=15,\n",
       "                       n_jobs=None, oob_score=False, random_state=None,\n",
       "                       verbose=0, warm_start=False)"
      ]
     },
     "execution_count": 18,
     "metadata": {},
     "output_type": "execute_result"
    }
   ],
   "source": [
    "model.fit(X_train,y_train)"
   ]
  },
  {
   "cell_type": "code",
   "execution_count": 19,
   "metadata": {},
   "outputs": [],
   "source": [
    "y_pred = model.predict(X_test)"
   ]
  },
  {
   "cell_type": "code",
   "execution_count": 20,
   "metadata": {},
   "outputs": [
    {
     "name": "stdout",
     "output_type": "stream",
     "text": [
      "Misclassified samples: 20\n",
      "Accuracy: 0.97\n"
     ]
    }
   ],
   "source": [
    "count_misclassified = (y_test != y_pred).sum()\n",
    "print('Misclassified samples: {}'.format(count_misclassified))\n",
    "accuracy = metrics.accuracy_score(y_test, y_pred)\n",
    "print('Accuracy: {:.2f}'.format(accuracy))"
   ]
  },
  {
   "cell_type": "code",
   "execution_count": 21,
   "metadata": {},
   "outputs": [],
   "source": [
    "from sklearn.preprocessing import StandardScaler"
   ]
  },
  {
   "cell_type": "code",
   "execution_count": 22,
   "metadata": {},
   "outputs": [],
   "source": [
    "scaler = StandardScaler()"
   ]
  },
  {
   "cell_type": "code",
   "execution_count": 23,
   "metadata": {},
   "outputs": [],
   "source": [
    "X = scaler.fit_transform(df)"
   ]
  },
  {
   "cell_type": "code",
   "execution_count": 24,
   "metadata": {},
   "outputs": [],
   "source": [
    "X_train,X_test,y_train,y_test = model_selection.train_test_split(X,dt,test_size=0.3,random_state=42)"
   ]
  },
  {
   "cell_type": "code",
   "execution_count": 25,
   "metadata": {},
   "outputs": [],
   "source": [
    "from sklearn import linear_model"
   ]
  },
  {
   "cell_type": "code",
   "execution_count": 26,
   "metadata": {},
   "outputs": [
    {
     "name": "stdout",
     "output_type": "stream",
     "text": [
      "CPU times: user 4 ms, sys: 0 ns, total: 4 ms\n",
      "Wall time: 39.1 µs\n"
     ]
    }
   ],
   "source": [
    "%%time\n",
    "model = linear_model.LogisticRegression()"
   ]
  },
  {
   "cell_type": "code",
   "execution_count": 27,
   "metadata": {},
   "outputs": [
    {
     "data": {
      "text/plain": [
       "LogisticRegression(C=1.0, class_weight=None, dual=False, fit_intercept=True,\n",
       "                   intercept_scaling=1, l1_ratio=None, max_iter=100,\n",
       "                   multi_class='warn', n_jobs=None, penalty='l2',\n",
       "                   random_state=None, solver='warn', tol=0.0001, verbose=0,\n",
       "                   warm_start=False)"
      ]
     },
     "execution_count": 27,
     "metadata": {},
     "output_type": "execute_result"
    }
   ],
   "source": [
    "model.fit(X_train,y_train)"
   ]
  },
  {
   "cell_type": "code",
   "execution_count": 28,
   "metadata": {},
   "outputs": [],
   "source": [
    "y_pred = model.predict(X_test)"
   ]
  },
  {
   "cell_type": "code",
   "execution_count": 29,
   "metadata": {},
   "outputs": [
    {
     "name": "stdout",
     "output_type": "stream",
     "text": [
      "Misclassified samples: 24\n",
      "Accuracy: 0.96\n"
     ]
    }
   ],
   "source": [
    "count_misclassified = (y_test != y_pred).sum()\n",
    "print('Misclassified samples: {}'.format(count_misclassified))\n",
    "accuracy = metrics.accuracy_score(y_test, y_pred)\n",
    "print('Accuracy: {:.2f}'.format(accuracy))"
   ]
  },
  {
   "cell_type": "code",
   "execution_count": null,
   "metadata": {},
   "outputs": [],
   "source": []
  }
 ],
 "metadata": {
  "kernelspec": {
   "display_name": "Python 3",
   "language": "python",
   "name": "python3"
  },
  "language_info": {
   "codemirror_mode": {
    "name": "ipython",
    "version": 3
   },
   "file_extension": ".py",
   "mimetype": "text/x-python",
   "name": "python",
   "nbconvert_exporter": "python",
   "pygments_lexer": "ipython3",
   "version": "3.6.6"
  }
 },
 "nbformat": 4,
 "nbformat_minor": 1
}
